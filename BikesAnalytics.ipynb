{
 "cells": [
  {
   "cell_type": "markdown",
   "metadata": {},
   "source": [
    "<img src=\"http://sonetodigital.com.br/adm/wp-content/uploads/2018/12/logo-fiap.png\" width=\"150\" align=\"left\"/>\n",
    "\n",
    "<br/><br/>\n",
    "\n",
    "<font size=5 color=\"#ed145b\"><b> Engenharia da Computação </b></font><font size=5 color=\"#ed145b\"> - Inteligência Artificial e computacional </font>\n",
    "\n",
    "<font size=5 color=\"#ed145b\"><b> Análise do Dataset bikes.csv </b></font><font size=5 color=\"#ed145b\"> - 3ºECR"
   ]
  },
  {
   "cell_type": "markdown",
   "metadata": {},
   "source": [
    "<font size=3 color=\"#ed145b\"><b> Membros: </b></font>\n",
    "\n",
    "<font size=3 color=\"#000000\"> Felipe Torigoe - RM 79896\n",
    "    <br> Guilherme Fujii - RM 79932\n",
    "    <br> Matheus Issao Bocci - RM 81542\n",
    "    <br> Matheus Pereira Nascimento - RM 81618\n",
    "    <br> Richard Rodrigues Silva - RM 80906"
   ]
  },
  {
   "cell_type": "markdown",
   "metadata": {},
   "source": [
    "### Informações sobre o dataset\n",
    "\n",
    "Esse conjunto de dados apresenta informações sobre o sistema de compartilhamento de bicicletas, o que é basicamente a forma mais atual para alugar esse meio de transporte. Todo o processo é realizado automaticamente: cadastro, aluguel e devolução.\n",
    "O usuário, através do sistema, localiza a bicicleta mais próxima e a retira, podendo retornar em qualquer outro local. Atualmente, existem cerca de 500 sistemas de compartilhamento ao redor do mundo, que envolvem mais de 500 mil bicicletas. O grande interesse por informações consiste no seu importante papel nos problemas de tráfego, ambientais e de saúde.\n",
    "\n",
    "Os sistemas de compartilhamento de bicicletas são também atrativos por conta dos seus dados gerados e da possibilidade de estudo feito sobre eles. Ao contrário de transportes como ônibus ou metrô, a duração do percurso, a partida e a posição de chegada são explicitamente registradas nesses sistemas. Esse recurso transforma o sistema de compartilhamento de bicicletas em uma rede virtual de sensores que pode ser usada para detectar a mobilidade na cidade.\n",
    "\n",
    "Para mais informações do dataset, o site: https://archive.ics.uci.edu/ml/datasets/bike+sharing+dataset pode ser consultado."
   ]
  },
  {
   "cell_type": "code",
   "execution_count": 265,
   "metadata": {},
   "outputs": [],
   "source": [
    "import pandas as pd\n",
    "import numpy as np\n",
    "import matplotlib.pyplot as plt\n",
    "from scipy import stats"
   ]
  },
  {
   "cell_type": "code",
   "execution_count": 266,
   "metadata": {},
   "outputs": [
    {
     "data": {
      "text/html": [
       "<div>\n",
       "<style scoped>\n",
       "    .dataframe tbody tr th:only-of-type {\n",
       "        vertical-align: middle;\n",
       "    }\n",
       "\n",
       "    .dataframe tbody tr th {\n",
       "        vertical-align: top;\n",
       "    }\n",
       "\n",
       "    .dataframe thead th {\n",
       "        text-align: right;\n",
       "    }\n",
       "</style>\n",
       "<table border=\"1\" class=\"dataframe\">\n",
       "  <thead>\n",
       "    <tr style=\"text-align: right;\">\n",
       "      <th></th>\n",
       "      <th>city</th>\n",
       "      <th>dteday</th>\n",
       "      <th>season</th>\n",
       "      <th>yr</th>\n",
       "      <th>mnth</th>\n",
       "      <th>holiday</th>\n",
       "      <th>weekday</th>\n",
       "      <th>workingday</th>\n",
       "      <th>weathersit</th>\n",
       "      <th>temp</th>\n",
       "      <th>atemp</th>\n",
       "      <th>hum</th>\n",
       "      <th>windspeed</th>\n",
       "      <th>stock</th>\n",
       "      <th>cnt</th>\n",
       "    </tr>\n",
       "  </thead>\n",
       "  <tbody>\n",
       "    <tr>\n",
       "      <th>0</th>\n",
       "      <td>city_0</td>\n",
       "      <td>2011-01-01</td>\n",
       "      <td>1</td>\n",
       "      <td>0</td>\n",
       "      <td>1</td>\n",
       "      <td>0</td>\n",
       "      <td>6</td>\n",
       "      <td>0</td>\n",
       "      <td>2</td>\n",
       "      <td>0.344167</td>\n",
       "      <td>0.363625</td>\n",
       "      <td>0.805833</td>\n",
       "      <td>0.160446</td>\n",
       "      <td>997</td>\n",
       "      <td>929</td>\n",
       "    </tr>\n",
       "    <tr>\n",
       "      <th>1</th>\n",
       "      <td>city_0</td>\n",
       "      <td>2011-01-02</td>\n",
       "      <td>1</td>\n",
       "      <td>0</td>\n",
       "      <td>1</td>\n",
       "      <td>0</td>\n",
       "      <td>0</td>\n",
       "      <td>0</td>\n",
       "      <td>2</td>\n",
       "      <td>0.363478</td>\n",
       "      <td>0.353739</td>\n",
       "      <td>0.696087</td>\n",
       "      <td>0.248539</td>\n",
       "      <td>1231</td>\n",
       "      <td>765</td>\n",
       "    </tr>\n",
       "    <tr>\n",
       "      <th>2</th>\n",
       "      <td>city_0</td>\n",
       "      <td>2011-01-03</td>\n",
       "      <td>1</td>\n",
       "      <td>0</td>\n",
       "      <td>1</td>\n",
       "      <td>0</td>\n",
       "      <td>1</td>\n",
       "      <td>1</td>\n",
       "      <td>1</td>\n",
       "      <td>0.196364</td>\n",
       "      <td>0.189405</td>\n",
       "      <td>0.437273</td>\n",
       "      <td>0.248309</td>\n",
       "      <td>1395</td>\n",
       "      <td>1395</td>\n",
       "    </tr>\n",
       "    <tr>\n",
       "      <th>3</th>\n",
       "      <td>city_0</td>\n",
       "      <td>2011-01-04</td>\n",
       "      <td>1</td>\n",
       "      <td>0</td>\n",
       "      <td>1</td>\n",
       "      <td>0</td>\n",
       "      <td>2</td>\n",
       "      <td>1</td>\n",
       "      <td>1</td>\n",
       "      <td>0.200000</td>\n",
       "      <td>0.212122</td>\n",
       "      <td>0.590435</td>\n",
       "      <td>0.160296</td>\n",
       "      <td>1651</td>\n",
       "      <td>1641</td>\n",
       "    </tr>\n",
       "    <tr>\n",
       "      <th>4</th>\n",
       "      <td>city_0</td>\n",
       "      <td>2011-01-05</td>\n",
       "      <td>1</td>\n",
       "      <td>0</td>\n",
       "      <td>1</td>\n",
       "      <td>0</td>\n",
       "      <td>3</td>\n",
       "      <td>1</td>\n",
       "      <td>1</td>\n",
       "      <td>0.226957</td>\n",
       "      <td>0.229270</td>\n",
       "      <td>0.436957</td>\n",
       "      <td>0.186900</td>\n",
       "      <td>2334</td>\n",
       "      <td>1671</td>\n",
       "    </tr>\n",
       "  </tbody>\n",
       "</table>\n",
       "</div>"
      ],
      "text/plain": [
       "     city      dteday  season  yr  mnth  holiday  weekday  workingday  \\\n",
       "0  city_0  2011-01-01       1   0     1        0        6           0   \n",
       "1  city_0  2011-01-02       1   0     1        0        0           0   \n",
       "2  city_0  2011-01-03       1   0     1        0        1           1   \n",
       "3  city_0  2011-01-04       1   0     1        0        2           1   \n",
       "4  city_0  2011-01-05       1   0     1        0        3           1   \n",
       "\n",
       "   weathersit      temp     atemp       hum  windspeed  stock   cnt  \n",
       "0           2  0.344167  0.363625  0.805833   0.160446    997   929  \n",
       "1           2  0.363478  0.353739  0.696087   0.248539   1231   765  \n",
       "2           1  0.196364  0.189405  0.437273   0.248309   1395  1395  \n",
       "3           1  0.200000  0.212122  0.590435   0.160296   1651  1641  \n",
       "4           1  0.226957  0.229270  0.436957   0.186900   2334  1671  "
      ]
     },
     "execution_count": 266,
     "metadata": {},
     "output_type": "execute_result"
    }
   ],
   "source": [
    "data = pd.read_csv(\"data/bikes.csv\")\n",
    "data = data.drop(columns=['target','mkt'])\n",
    "data.head()"
   ]
  },
  {
   "cell_type": "code",
   "execution_count": 267,
   "metadata": {},
   "outputs": [],
   "source": [
    "def sname(season):\n",
    "    if (season == 1):\n",
    "        return 'winter'\n",
    "    elif (season == 2):\n",
    "        return 'spring'\n",
    "    elif (season == 3):\n",
    "        return 'summer'\n",
    "    else:\n",
    "        return 'fall'\n",
    "\n",
    "data['sname'] = data.season.apply(sname)"
   ]
  },
  {
   "cell_type": "code",
   "execution_count": 268,
   "metadata": {},
   "outputs": [],
   "source": [
    "def dname(weekday):\n",
    "    if (weekday == 0):\n",
    "        return 'sunday'\n",
    "    elif (weekday == 1):\n",
    "        return 'monday'\n",
    "    elif (weekday == 2):\n",
    "        return 'tuesday'\n",
    "    elif (weekday == 3):\n",
    "        return 'wednesday'\n",
    "    elif (weekday == 4):\n",
    "        return 'thursday'\n",
    "    elif (weekday == 5):\n",
    "        return 'friday'\n",
    "    else:\n",
    "        return 'saturday'\n",
    "    \n",
    "data['dname'] = data.weekday.apply(dname)"
   ]
  },
  {
   "cell_type": "code",
   "execution_count": 269,
   "metadata": {},
   "outputs": [],
   "source": [
    "def year(yr):\n",
    "    if (yr == 0):\n",
    "        return 2011\n",
    "    else:\n",
    "        return 2012\n",
    "data['year'] = data.yr.apply(year)"
   ]
  },
  {
   "cell_type": "code",
   "execution_count": 270,
   "metadata": {},
   "outputs": [],
   "source": [
    "def rtemp(temp):\n",
    "    return (temp * 47) - 8\n",
    "\n",
    "data['rtemp'] = data.temp.apply(rtemp)"
   ]
  },
  {
   "cell_type": "code",
   "execution_count": 271,
   "metadata": {
    "scrolled": true
   },
   "outputs": [],
   "source": [
    "def ratemp(atemp):\n",
    "    return (atemp * 47) - 8\n",
    "\n",
    "data['ratemp'] = data.temp.apply(ratemp)"
   ]
  },
  {
   "cell_type": "markdown",
   "metadata": {},
   "source": [
    "# Análise da dataset"
   ]
  },
  {
   "cell_type": "markdown",
   "metadata": {},
   "source": [
    "<div class=\"alert alert-block alert-info\">\n",
    "<b>Crescimento entre os anos de 2011 e 2012</b>\n",
    "    <br>A primeira análise que pensamos em fazer é comparando em qual dos dois anos (2011 ou 2012) houve um maior número de aluguel de bicicletas.\n",
    "</div>"
   ]
  },
  {
   "cell_type": "code",
   "execution_count": 272,
   "metadata": {},
   "outputs": [
    {
     "data": {
      "text/plain": [
       "year\n",
       "2011    3599.563205\n",
       "2012    5679.657951\n",
       "Name: cnt, dtype: float64"
      ]
     },
     "execution_count": 272,
     "metadata": {},
     "output_type": "execute_result"
    }
   ],
   "source": [
    "#Agrupando por ano a média contagem de bicicletas alugadas\n",
    "data.groupby(by = 'year')['cnt'].mean()"
   ]
  },
  {
   "cell_type": "code",
   "execution_count": 273,
   "metadata": {},
   "outputs": [
    {
     "data": {
      "image/png": "[encoded data removed]",
      "text/plain": [
       "<Figure size 720x144 with 1 Axes>"
      ]
     },
     "metadata": {},
     "output_type": "display_data"
    }
   ],
   "source": [
    "#Plotando os resultados acima em gráfico\n",
    "\n",
    "plt.figure(figsize=(10,2))\n",
    "_ = data.groupby(by=['year'])['cnt'].mean().plot(xticks = ([2011,2012]))"
   ]
  },
  {
   "cell_type": "markdown",
   "metadata": {},
   "source": [
    "<div class=\"alert alert-block alert-success\">\n",
    "    Conseguimos concluir que no ano de 2012, houve um maior uso nos sistemas de compartilhamento. Provavelmente, por conta da maior disseminação desse tipo de sistema e da crescente adoção do uso dos smartphones.\n",
    "</div>"
   ]
  },
  {
   "cell_type": "markdown",
   "metadata": {},
   "source": [
    "<div class=\"alert alert-block alert-info\">\n",
    "<b>Olhando agora para os meses</b>\n",
    "<br>Outra análise a ser feita é a relação da quantidade de bicicletas alugadas ao longo dos meses.\n",
    "</div>"
   ]
  },
  {
   "cell_type": "code",
   "execution_count": 274,
   "metadata": {},
   "outputs": [
    {
     "data": {
      "text/plain": [
       "mnth\n",
       "1     2240.093145\n",
       "2     2984.896316\n",
       "3     3965.533145\n",
       "4     4667.588917\n",
       "5     5484.249194\n",
       "6     5869.494500\n",
       "7     5621.544919\n",
       "8     5755.667500\n",
       "9     5827.898083\n",
       "10    5320.432742\n",
       "11    4331.533583\n",
       "12    3558.695242\n",
       "Name: cnt, dtype: float64"
      ]
     },
     "execution_count": 274,
     "metadata": {},
     "output_type": "execute_result"
    }
   ],
   "source": [
    "#Agrupando por meses a média da contagem de bicicletas alugadas\n",
    "\n",
    "data.groupby('mnth')['cnt'].mean()"
   ]
  },
  {
   "cell_type": "code",
   "execution_count": 275,
   "metadata": {
    "scrolled": true
   },
   "outputs": [
    {
     "data": {
      "image/png": "[encoded data removed]",
      "text/plain": [
       "<Figure size 1080x360 with 1 Axes>"
      ]
     },
     "metadata": {},
     "output_type": "display_data"
    }
   ],
   "source": [
    "#Plotando os resultados acima em gráfico\n",
    "\n",
    "plt.figure(figsize=(15,5))\n",
    "_ = data.groupby(['mnth'])['cnt'].mean().plot(kind='bar')"
   ]
  },
  {
   "cell_type": "markdown",
   "metadata": {},
   "source": [
    "<div class=\"alert alert-block alert-success\">\n",
    "A partir dessa observação, conseguimos concluir que o maior volume de alugués ocorreu do mês 5 ao mês 10, tendo seu pico entre os meses de junho e agosto. <br>\n",
    "Temos ciência de que, durante os 3 meses em que ocorre o pico, os estudantes americanos estão em seu período de férias, sabemos também que o verão nos Estados Unidos se estende de junho a setembro. Portanto, os números de locação podem se justificar por esse motivos.\n",
    "</div>"
   ]
  },
  {
   "cell_type": "markdown",
   "metadata": {},
   "source": [
    "<div class=\"alert alert-block alert-info\">\n",
    "<b>Vamos tomar como análise os alugueis nos finais de semana e nos feriados</b>\n",
    "\n",
    "- Analisando a média de alugueis nos dias da semana\n",
    "</div>"
   ]
  },
  {
   "cell_type": "code",
   "execution_count": 276,
   "metadata": {
    "scrolled": false
   },
   "outputs": [
    {
     "data": {
      "text/plain": [
       "dname\n",
       "friday       4824.593077\n",
       "monday       4478.692000\n",
       "saturday     4686.245048\n",
       "sunday       4360.923714\n",
       "thursday     4804.061010\n",
       "tuesday      4648.866058\n",
       "wednesday    4687.672163\n",
       "Name: cnt, dtype: float64"
      ]
     },
     "execution_count": 276,
     "metadata": {},
     "output_type": "execute_result"
    }
   ],
   "source": [
    "data.groupby(by = 'dname')['cnt'].mean()"
   ]
  },
  {
   "cell_type": "code",
   "execution_count": 277,
   "metadata": {
    "scrolled": true
   },
   "outputs": [
    {
     "data": {
      "image/png": "[encoded data removed]",
      "text/plain": [
       "<Figure size 576x288 with 1 Axes>"
      ]
     },
     "metadata": {},
     "output_type": "display_data"
    }
   ],
   "source": [
    "plt.figure(figsize=(8,4))\n",
    "_ = data.groupby(['dname'])['cnt'].mean().plot(kind='bar')"
   ]
  },
  {
   "cell_type": "markdown",
   "metadata": {},
   "source": [
    "<div class=\"alert alert-block alert-info\">\n",
    "\n",
    "- Agora, olhando para o final de semana...\n",
    "</div>"
   ]
  },
  {
   "cell_type": "code",
   "execution_count": 278,
   "metadata": {},
   "outputs": [
    {
     "data": {
      "text/plain": [
       "dname\n",
       "saturday    4686.245048\n",
       "sunday      4360.923714\n",
       "Name: cnt, dtype: float64"
      ]
     },
     "execution_count": 278,
     "metadata": {},
     "output_type": "execute_result"
    }
   ],
   "source": [
    "weekend = data[(data['weekday'] == 0) | (data['weekday'] == 6)]\n",
    "weekend.groupby(by = 'dname')['cnt'].mean()"
   ]
  },
  {
   "cell_type": "code",
   "execution_count": 279,
   "metadata": {},
   "outputs": [
    {
     "data": {
      "image/png": "[encoded data removed]",
      "text/plain": [
       "<Figure size 360x216 with 1 Axes>"
      ]
     },
     "metadata": {},
     "output_type": "display_data"
    }
   ],
   "source": [
    "plt.figure(figsize=(5,3))\n",
    "_ = tmp.groupby(['dname'])['cnt'].mean().plot(kind='bar')"
   ]
  },
  {
   "cell_type": "markdown",
   "metadata": {},
   "source": [
    "<div class=\"alert alert-block alert-success\">\n",
    "Com essa análise, chegamos a conclusão de que o dia com mais alugueis dentro do final de semana é no sábado, considerando o valor total dos alugueis.\n",
    "<br><br>\n",
    "Partindo para uma análise mais afundo, analisaremos o número de feriados nos finais de semana.\n",
    "</div>"
   ]
  },
  {
   "cell_type": "markdown",
   "metadata": {},
   "source": [
    "- _Separando os finais de semana onde o weekday 6 (sábado) era feriado._"
   ]
  },
  {
   "cell_type": "code",
   "execution_count": 280,
   "metadata": {
    "scrolled": true
   },
   "outputs": [
    {
     "data": {
      "text/html": [
       "<div>\n",
       "<style scoped>\n",
       "    .dataframe tbody tr th:only-of-type {\n",
       "        vertical-align: middle;\n",
       "    }\n",
       "\n",
       "    .dataframe tbody tr th {\n",
       "        vertical-align: top;\n",
       "    }\n",
       "\n",
       "    .dataframe thead th {\n",
       "        text-align: right;\n",
       "    }\n",
       "</style>\n",
       "<table border=\"1\" class=\"dataframe\">\n",
       "  <thead>\n",
       "    <tr style=\"text-align: right;\">\n",
       "      <th></th>\n",
       "      <th>city</th>\n",
       "      <th>dteday</th>\n",
       "      <th>season</th>\n",
       "      <th>yr</th>\n",
       "      <th>mnth</th>\n",
       "      <th>holiday</th>\n",
       "      <th>weekday</th>\n",
       "      <th>workingday</th>\n",
       "      <th>weathersit</th>\n",
       "      <th>temp</th>\n",
       "      <th>atemp</th>\n",
       "      <th>hum</th>\n",
       "      <th>windspeed</th>\n",
       "      <th>stock</th>\n",
       "      <th>cnt</th>\n",
       "      <th>sname</th>\n",
       "      <th>dname</th>\n",
       "      <th>year</th>\n",
       "      <th>rtemp</th>\n",
       "      <th>ratemp</th>\n",
       "    </tr>\n",
       "  </thead>\n",
       "  <tbody>\n",
       "  </tbody>\n",
       "</table>\n",
       "</div>"
      ],
      "text/plain": [
       "Empty DataFrame\n",
       "Columns: [city, dteday, season, yr, mnth, holiday, weekday, workingday, weathersit, temp, atemp, hum, windspeed, stock, cnt, sname, dname, year, rtemp, ratemp]\n",
       "Index: []"
      ]
     },
     "execution_count": 280,
     "metadata": {},
     "output_type": "execute_result"
    }
   ],
   "source": [
    "data[(data['weekday'] == 6) & (data['holiday'] == 1)]"
   ]
  },
  {
   "cell_type": "markdown",
   "metadata": {},
   "source": [
    "<div class=\"alert alert-block alert-success\">\n",
    "Podemos observar que não houve feriados no sábado no período em que o dataset foi feito. Por conta disso iremos analisar em quais dias o aluguel tem maior volume. Sábados ou Feriados.\n",
    "</div>"
   ]
  },
  {
   "cell_type": "code",
   "execution_count": 281,
   "metadata": {},
   "outputs": [
    {
     "data": {
      "text/plain": [
       "holiday\n",
       "0    4663.869077\n",
       "1    3868.968333\n",
       "Name: cnt, dtype: float64"
      ]
     },
     "execution_count": 281,
     "metadata": {},
     "output_type": "execute_result"
    }
   ],
   "source": [
    "data.groupby(by = 'holiday')['cnt'].mean()"
   ]
  },
  {
   "cell_type": "code",
   "execution_count": 282,
   "metadata": {},
   "outputs": [
    {
     "data": {
      "image/png": "[encoded data removed]",
      "text/plain": [
       "<Figure size 360x216 with 1 Axes>"
      ]
     },
     "metadata": {},
     "output_type": "display_data"
    }
   ],
   "source": [
    "plt.figure(figsize=(5,3))\n",
    "holidaygraph = data.groupby(['holiday'])['cnt'].mean().plot(kind='bar')"
   ]
  },
  {
   "cell_type": "code",
   "execution_count": 283,
   "metadata": {
    "scrolled": true
   },
   "outputs": [
    {
     "data": {
      "text/plain": [
       "dname\n",
       "saturday    4686.245048\n",
       "sunday      4360.923714\n",
       "Name: cnt, dtype: float64"
      ]
     },
     "execution_count": 283,
     "metadata": {},
     "output_type": "execute_result"
    }
   ],
   "source": [
    "weekend.groupby(by = ['dname'])['cnt'].mean()"
   ]
  },
  {
   "cell_type": "code",
   "execution_count": 284,
   "metadata": {},
   "outputs": [
    {
     "data": {
      "image/png": "[encoded data removed]",
      "text/plain": [
       "<Figure size 360x216 with 1 Axes>"
      ]
     },
     "metadata": {},
     "output_type": "display_data"
    }
   ],
   "source": [
    "plt.figure(figsize=(5,3))\n",
    "weekendgraph = weekend.groupby(by=['dname'])['cnt'].mean().plot(kind='bar')"
   ]
  },
  {
   "cell_type": "markdown",
   "metadata": {},
   "source": [
    "<div class=\"alert alert-block alert-success\">\n",
    "Após essa análise, podemos confirmar que em finais de semana houve muito mais alugueis do que em feriados. Análise que pode ser feita também pensando que o número de feriados no ano é um valor muito mais baixo do que o número de finais de semana no ano, fazendo com que o número de alugueis em finais de semana seja maior.\n",
    "</div>"
   ]
  },
  {
   "cell_type": "markdown",
   "metadata": {},
   "source": [
    "<div class=\"alert alert-block alert-info\">\n",
    "<b>Estações do ano e seus numeros</b>\n",
    "\n",
    "- Analisando a média de alugueis por estação\n",
    "</div>"
   ]
  },
  {
   "cell_type": "code",
   "execution_count": 285,
   "metadata": {},
   "outputs": [
    {
     "data": {
      "text/plain": [
       "sname\n",
       "fall      4839.541545\n",
       "spring    5149.690136\n",
       "summer    5718.733218\n",
       "winter    2809.348923\n",
       "Name: cnt, dtype: float64"
      ]
     },
     "execution_count": 285,
     "metadata": {},
     "output_type": "execute_result"
    }
   ],
   "source": [
    "data.groupby(by=['sname'])['cnt'].mean()"
   ]
  },
  {
   "cell_type": "code",
   "execution_count": 286,
   "metadata": {
    "scrolled": true
   },
   "outputs": [
    {
     "data": {
      "image/png": "[encoded data removed]",
      "text/plain": [
       "<Figure size 576x288 with 1 Axes>"
      ]
     },
     "metadata": {},
     "output_type": "display_data"
    }
   ],
   "source": [
    "plt.figure(figsize=(8,4))\n",
    "_ = data.groupby(['sname'])['cnt'].mean().plot(kind='bar')"
   ]
  },
  {
   "cell_type": "markdown",
   "metadata": {},
   "source": [
    " <div class=\"alert alert-block alert-success\">\n",
    "A estação do ano que menos houve alugueis de bike foi o inverno, o que era esperado. Porém no inverno qual foi o dia com mais alugueis.\n",
    "</div>"
   ]
  },
  {
   "cell_type": "code",
   "execution_count": 287,
   "metadata": {},
   "outputs": [
    {
     "data": {
      "text/plain": [
       "9149"
      ]
     },
     "execution_count": 287,
     "metadata": {},
     "output_type": "execute_result"
    }
   ],
   "source": [
    "#maior numero de alugueis durante o inverno \n",
    "data[(data['season'] == 1)]['cnt'].max()"
   ]
  },
  {
   "cell_type": "markdown",
   "metadata": {},
   "source": [
    "- _Vamos olhar como estava este dia..._"
   ]
  },
  {
   "cell_type": "code",
   "execution_count": 288,
   "metadata": {},
   "outputs": [
    {
     "data": {
      "text/html": [
       "<div>\n",
       "<style scoped>\n",
       "    .dataframe tbody tr th:only-of-type {\n",
       "        vertical-align: middle;\n",
       "    }\n",
       "\n",
       "    .dataframe tbody tr th {\n",
       "        vertical-align: top;\n",
       "    }\n",
       "\n",
       "    .dataframe thead th {\n",
       "        text-align: right;\n",
       "    }\n",
       "</style>\n",
       "<table border=\"1\" class=\"dataframe\">\n",
       "  <thead>\n",
       "    <tr style=\"text-align: right;\">\n",
       "      <th></th>\n",
       "      <th>city</th>\n",
       "      <th>dteday</th>\n",
       "      <th>season</th>\n",
       "      <th>yr</th>\n",
       "      <th>mnth</th>\n",
       "      <th>holiday</th>\n",
       "      <th>weekday</th>\n",
       "      <th>workingday</th>\n",
       "      <th>weathersit</th>\n",
       "      <th>temp</th>\n",
       "      <th>atemp</th>\n",
       "      <th>hum</th>\n",
       "      <th>windspeed</th>\n",
       "      <th>stock</th>\n",
       "      <th>cnt</th>\n",
       "      <th>sname</th>\n",
       "      <th>dname</th>\n",
       "      <th>year</th>\n",
       "      <th>rtemp</th>\n",
       "      <th>ratemp</th>\n",
       "    </tr>\n",
       "  </thead>\n",
       "  <tbody>\n",
       "    <tr>\n",
       "      <th>31143</th>\n",
       "      <td>city_136</td>\n",
       "      <td>2012-03-17</td>\n",
       "      <td>1</td>\n",
       "      <td>1</td>\n",
       "      <td>3</td>\n",
       "      <td>0</td>\n",
       "      <td>6</td>\n",
       "      <td>0</td>\n",
       "      <td>2</td>\n",
       "      <td>0.514167</td>\n",
       "      <td>0.505046</td>\n",
       "      <td>0.755833</td>\n",
       "      <td>0.110704</td>\n",
       "      <td>9939</td>\n",
       "      <td>9149</td>\n",
       "      <td>winter</td>\n",
       "      <td>saturday</td>\n",
       "      <td>2012</td>\n",
       "      <td>16.165849</td>\n",
       "      <td>16.165849</td>\n",
       "    </tr>\n",
       "  </tbody>\n",
       "</table>\n",
       "</div>"
      ],
      "text/plain": [
       "           city      dteday  season  yr  mnth  holiday  weekday  workingday  \\\n",
       "31143  city_136  2012-03-17       1   1     3        0        6           0   \n",
       "\n",
       "       weathersit      temp     atemp       hum  windspeed  stock   cnt  \\\n",
       "31143           2  0.514167  0.505046  0.755833   0.110704   9939  9149   \n",
       "\n",
       "        sname     dname  year      rtemp     ratemp  \n",
       "31143  winter  saturday  2012  16.165849  16.165849  "
      ]
     },
     "execution_count": 288,
     "metadata": {},
     "output_type": "execute_result"
    }
   ],
   "source": [
    "data[(data['cnt'] == 9149) & (data['season'] == 1)]"
   ]
  },
  {
   "cell_type": "markdown",
   "metadata": {},
   "source": [
    "- O dia parece quente para o inverno, vamos olhar para a média de temperatura para esta estação naquele ano..."
   ]
  },
  {
   "cell_type": "code",
   "execution_count": 289,
   "metadata": {},
   "outputs": [
    {
     "data": {
      "text/plain": [
       "7.119923241758019"
      ]
     },
     "execution_count": 289,
     "metadata": {},
     "output_type": "execute_result"
    }
   ],
   "source": [
    "#media da sensacao termica durante o inverno\n",
    "data[(data['season'] == 1) & (data['yr'] == 1)]['ratemp'].mean()"
   ]
  },
  {
   "cell_type": "markdown",
   "metadata": {},
   "source": [
    "<div class=\"alert alert-block alert-success\">\n",
    "O que pode explicar este fato, é que neste dia a sensaçao térmica estava bem acima do que a média para o inverno naquele ano, apesar de estar um dia nublado, e ainda era <b>Saint Patrick's Day</b> nos EUA que é culturamente comemorado todos os anos, onde os Irlandeses e seus descendentes saem nas ruas comemorando e bebendo a famosa \"green beer\".\n",
    "</div>"
   ]
  },
  {
   "cell_type": "markdown",
   "metadata": {},
   "source": [
    "<div class=\"alert alert-block alert-info\">\n",
    "    <p>E em 2011, qual foi o dia? &#129300;</p>\n",
    "</div>"
   ]
  },
  {
   "cell_type": "code",
   "execution_count": 290,
   "metadata": {},
   "outputs": [
    {
     "data": {
      "text/plain": [
       "4559"
      ]
     },
     "execution_count": 290,
     "metadata": {},
     "output_type": "execute_result"
    }
   ],
   "source": [
    "#maior numero de alugueis durante o inverno de 2011\n",
    "data[(data['season'] == 1) & (data['yr'] == 0)]['cnt'].max()"
   ]
  },
  {
   "cell_type": "code",
   "execution_count": 291,
   "metadata": {},
   "outputs": [
    {
     "data": {
      "text/html": [
       "<div>\n",
       "<style scoped>\n",
       "    .dataframe tbody tr th:only-of-type {\n",
       "        vertical-align: middle;\n",
       "    }\n",
       "\n",
       "    .dataframe tbody tr th {\n",
       "        vertical-align: top;\n",
       "    }\n",
       "\n",
       "    .dataframe thead th {\n",
       "        text-align: right;\n",
       "    }\n",
       "</style>\n",
       "<table border=\"1\" class=\"dataframe\">\n",
       "  <thead>\n",
       "    <tr style=\"text-align: right;\">\n",
       "      <th></th>\n",
       "      <th>city</th>\n",
       "      <th>dteday</th>\n",
       "      <th>season</th>\n",
       "      <th>yr</th>\n",
       "      <th>mnth</th>\n",
       "      <th>holiday</th>\n",
       "      <th>weekday</th>\n",
       "      <th>workingday</th>\n",
       "      <th>weathersit</th>\n",
       "      <th>temp</th>\n",
       "      <th>atemp</th>\n",
       "      <th>hum</th>\n",
       "      <th>windspeed</th>\n",
       "      <th>stock</th>\n",
       "      <th>cnt</th>\n",
       "      <th>sname</th>\n",
       "      <th>dname</th>\n",
       "      <th>year</th>\n",
       "      <th>rtemp</th>\n",
       "      <th>ratemp</th>\n",
       "    </tr>\n",
       "  </thead>\n",
       "  <tbody>\n",
       "    <tr>\n",
       "      <th>59259</th>\n",
       "      <td>city_171</td>\n",
       "      <td>2011-02-18</td>\n",
       "      <td>1</td>\n",
       "      <td>0</td>\n",
       "      <td>2</td>\n",
       "      <td>0</td>\n",
       "      <td>5</td>\n",
       "      <td>1</td>\n",
       "      <td>1</td>\n",
       "      <td>0.521667</td>\n",
       "      <td>0.511983</td>\n",
       "      <td>0.516667</td>\n",
       "      <td>0.264925</td>\n",
       "      <td>4759</td>\n",
       "      <td>4559</td>\n",
       "      <td>winter</td>\n",
       "      <td>friday</td>\n",
       "      <td>2011</td>\n",
       "      <td>16.518349</td>\n",
       "      <td>16.518349</td>\n",
       "    </tr>\n",
       "  </tbody>\n",
       "</table>\n",
       "</div>"
      ],
      "text/plain": [
       "           city      dteday  season  yr  mnth  holiday  weekday  workingday  \\\n",
       "59259  city_171  2011-02-18       1   0     2        0        5           1   \n",
       "\n",
       "       weathersit      temp     atemp       hum  windspeed  stock   cnt  \\\n",
       "59259           1  0.521667  0.511983  0.516667   0.264925   4759  4559   \n",
       "\n",
       "        sname   dname  year      rtemp     ratemp  \n",
       "59259  winter  friday  2011  16.518349  16.518349  "
      ]
     },
     "execution_count": 291,
     "metadata": {},
     "output_type": "execute_result"
    }
   ],
   "source": [
    "data[(data['cnt'] == 4559) & (data['season'] == 1) & (data['yr'] == 0)]"
   ]
  },
  {
   "cell_type": "markdown",
   "metadata": {},
   "source": [
    "<div class=\"alert alert-block alert-success\">\n",
    "    <p>Apenas uma sexta-feira mais quente durante o inverno &#128516;</p>\n",
    "</div>"
   ]
  }
 ],
 "metadata": {
  "kernelspec": {
   "display_name": "Python 3",
   "language": "python",
   "name": "python3"
  },
  "language_info": {
   "codemirror_mode": {
    "name": "ipython",
    "version": 3
   },
   "file_extension": ".py",
   "mimetype": "text/x-python",
   "name": "python",
   "nbconvert_exporter": "python",
   "pygments_lexer": "ipython3",
   "version": "3.7.6"
  }
 },
 "nbformat": 4,
 "nbformat_minor": 4
}
